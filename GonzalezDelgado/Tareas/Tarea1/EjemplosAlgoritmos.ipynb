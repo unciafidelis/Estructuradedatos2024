{
 "cells": [
  {
   "cell_type": "markdown",
   "metadata": {},
   "source": [
    "Algoritmo 1: Pila_vacía"
   ]
  },
  {
   "cell_type": "code",
   "execution_count": null,
   "metadata": {},
   "outputs": [],
   "source": [
    "class Pila:\n",
    "    def __init__(self, max_size):\n",
    "        self.pila = []\n",
    "        self.tope = -1\n",
    "        self.max_size = max_size\n",
    "\n",
    "    def pila_vacia(self):\n",
    "        # Verifica si la pila está vacía\n",
    "        return self.tope == -1\n",
    "\n",
    "# Ejemplo de uso de Pila_vacía\n",
    "p = Pila(5)\n",
    "print(\"¿Pila vacía?\", p.pila_vacia())  # True\n"
   ]
  },
  {
   "cell_type": "markdown",
   "metadata": {},
   "source": [
    "Algoritmo 2: Pila_llena"
   ]
  },
  {
   "cell_type": "code",
   "execution_count": null,
   "metadata": {},
   "outputs": [],
   "source": [
    "class Pila:\n",
    "    def __init__(self, max_size):\n",
    "        self.pila = []\n",
    "        self.tope = -1\n",
    "        self.max_size = max_size\n",
    "\n",
    "    def pila_llena(self):\n",
    "        # Verifica si la pila está llena\n",
    "        return self.tope == self.max_size - 1\n",
    "\n",
    "# Ejemplo de uso de Pila_llena\n",
    "p = Pila(3)\n",
    "p.pila.append(10)\n",
    "p.tope += 1\n",
    "p.pila.append(20)\n",
    "p.tope += 1\n",
    "p.pila.append(30)\n",
    "p.tope += 1\n",
    "print(\"¿Pila llena?\", p.pila_llena())  # True\n"
   ]
  },
  {
   "cell_type": "markdown",
   "metadata": {},
   "source": [
    "Algoritmo 3: Pone (Push)"
   ]
  },
  {
   "cell_type": "code",
   "execution_count": null,
   "metadata": {},
   "outputs": [],
   "source": [
    "class Pila:\n",
    "    def __init__(self, max_size):\n",
    "        self.pila = []\n",
    "        self.tope = -1\n",
    "        self.max_size = max_size\n",
    "\n",
    "    def pone(self, dato):\n",
    "        if self.tope == self.max_size - 1:\n",
    "            print(\"Desbordamiento - Pila llena\")\n",
    "        else:\n",
    "            self.tope += 1\n",
    "            self.pila.append(dato)\n",
    "\n",
    "# Ejemplo de uso de Pone\n",
    "p = Pila(3)\n",
    "p.pone(10)\n",
    "p.pone(20)\n",
    "p.pone(30)\n",
    "p.pone(40)  # Pila llena\n",
    "print(p.pila)\n"
   ]
  },
  {
   "cell_type": "markdown",
   "metadata": {},
   "source": [
    "Algoritmo 4: Quita (Pop)"
   ]
  },
  {
   "cell_type": "code",
   "execution_count": null,
   "metadata": {},
   "outputs": [],
   "source": [
    "class Pila:\n",
    "    def __init__(self, max_size):\n",
    "        self.pila = []\n",
    "        self.tope = -1\n",
    "        self.max_size = max_size\n",
    "\n",
    "    def quita(self):\n",
    "        if self.tope == -1:\n",
    "            print(\"Subdesbordamiento - Pila vacía\")\n",
    "        else:\n",
    "            return self.pila.pop()\n",
    "\n",
    "# Ejemplo de uso de Quita\n",
    "p = Pila(3)\n",
    "p.pone(10)\n",
    "p.pone(20)\n",
    "p.pone(30)\n",
    "print(p.quita())  # 30\n",
    "print(p.quita())  # 20\n",
    "print(p.quita())  # 10\n",
    "print(p.quita())  # Pila vacía\n"
   ]
  },
  {
   "cell_type": "markdown",
   "metadata": {},
   "source": [
    "Algoritmo 5: Conv_postfija"
   ]
  },
  {
   "cell_type": "code",
   "execution_count": null,
   "metadata": {},
   "outputs": [],
   "source": [
    "def conv_postfija(expresion):\n",
    "    precedencia = {'+': 1, '-': 1, '*': 2, '/': 2, '^': 3}\n",
    "    pila = []\n",
    "    salida = []\n",
    "    for char in expresion:\n",
    "        if char.isalnum():\n",
    "            salida.append(char)\n",
    "        elif char == '(':\n",
    "            pila.append(char)\n",
    "        elif char == ')':\n",
    "            while pila and pila[-1] != '(':\n",
    "                salida.append(pila.pop())\n",
    "            pila.pop()\n",
    "        else:\n",
    "            while pila and precedencia.get(char, 0) <= precedencia.get(pila[-1], 0):\n",
    "                salida.append(pila.pop())\n",
    "            pila.append(char)\n",
    "    while pila:\n",
    "        salida.append(pila.pop())\n",
    "    return ''.join(salida)\n",
    "\n",
    "# Ejemplo de uso\n",
    "expresion = \"A+B*(C^D-E)\"\n",
    "print(\"Postfija:\", conv_postfija(expresion))  # \"ABCD^E-*+\"\n"
   ]
  },
  {
   "cell_type": "markdown",
   "metadata": {},
   "source": [
    "Algoritmo 6: Conv_prefija"
   ]
  },
  {
   "cell_type": "code",
   "execution_count": null,
   "metadata": {},
   "outputs": [],
   "source": [
    "def conv_prefija(expresion):\n",
    "    precedencia = {'+': 1, '-': 1, '*': 2, '/': 2, '^': 3}\n",
    "    pila = []\n",
    "    salida = []\n",
    "    expresion = expresion[::-1]\n",
    "    for char in expresion:\n",
    "        if char.isalnum():\n",
    "            salida.append(char)\n",
    "        elif char == ')':\n",
    "            pila.append(char)\n",
    "        elif char == '(':\n",
    "            while pila and pila[-1] != ')':\n",
    "                salida.append(pila.pop())\n",
    "            pila.pop()\n",
    "        else:\n",
    "            while pila and precedencia.get(char, 0) < precedencia.get(pila[-1], 0):\n",
    "                salida.append(pila.pop())\n",
    "            pila.append(char)\n",
    "    while pila:\n",
    "        salida.append(pila.pop())\n",
    "    return ''.join(salida[::-1])\n",
    "\n",
    "# Ejemplo de uso\n",
    "expresion = \"(A+B)*(C-D)\"\n",
    "print(\"Prefija:\", conv_prefija(expresion))  # \"*+AB-CD\"\n"
   ]
  },
  {
   "cell_type": "markdown",
   "metadata": {},
   "source": [
    "Algoritmo 7: Evaluación_postfija"
   ]
  },
  {
   "cell_type": "code",
   "execution_count": null,
   "metadata": {},
   "outputs": [],
   "source": [
    "def evalua_postfija(expresion):\n",
    "    pila = []\n",
    "    for char in expresion:\n",
    "        if char.isdigit():\n",
    "            pila.append(int(char))\n",
    "        else:\n",
    "            op2 = pila.pop()\n",
    "            op1 = pila.pop()\n",
    "            if char == '+':\n",
    "                pila.append(op1 + op2)\n",
    "            elif char == '-':\n",
    "                pila.append(op1 - op2)\n",
    "            elif char == '*':\n",
    "                pila.append(op1 * op2)\n",
    "            elif char == '/':\n",
    "                pila.append(op1 / op2)\n",
    "    return pila[0]\n",
    "\n",
    "# Ejemplo de uso\n",
    "expresion = \"231*+9-\"\n",
    "print(\"Resultado:\", evalua_postfija(expresion))  # -4\n"
   ]
  },
  {
   "cell_type": "markdown",
   "metadata": {},
   "source": [
    "Algoritmo 8: Cola_vacía"
   ]
  },
  {
   "cell_type": "code",
   "execution_count": null,
   "metadata": {},
   "outputs": [],
   "source": [
    "class Cola:\n",
    "    def __init__(self, max_size):\n",
    "        self.cola = []\n",
    "        self.frente = 0\n",
    "        self.final = -1\n",
    "        self.max_size = max_size\n",
    "\n",
    "    def cola_vacia(self):\n",
    "        return self.frente == 0 and self.final == -1\n",
    "\n",
    "# Ejemplo de uso\n",
    "c = Cola(5)\n",
    "print(\"¿Cola vacía?\", c.cola_vacia())  # True\n"
   ]
  },
  {
   "cell_type": "markdown",
   "metadata": {},
   "source": [
    "Algoritmo 9: Cola_llena"
   ]
  },
  {
   "cell_type": "code",
   "execution_count": null,
   "metadata": {},
   "outputs": [],
   "source": [
    "class Cola:\n",
    "    def __init__(self, max_size):\n",
    "        self.cola = []\n",
    "        self.frente = 0\n",
    "        self.final = -1\n",
    "        self.max_size = max_size\n",
    "\n",
    "    def cola_llena(self):\n",
    "        return self.final == self.max_size - 1\n",
    "\n",
    "# Ejemplo de uso\n",
    "c = Cola(3)\n",
    "c.cola.append(10)\n",
    "c.final += 1\n",
    "c.cola.append(20)\n",
    "c.final += 1\n",
    "c.cola.append(30)\n",
    "c.final += 1\n",
    "print(\"¿Cola llena?\", c.cola_llena())  # True\n"
   ]
  },
  {
   "cell_type": "markdown",
   "metadata": {},
   "source": [
    "Algoritmo 10: Inserta_cola (Enqueue)"
   ]
  },
  {
   "cell_type": "code",
   "execution_count": null,
   "metadata": {},
   "outputs": [],
   "source": [
    "class Cola:\n",
    "    def __init__(self, max_size):\n",
    "        self.cola = []\n",
    "        self.frente = 0\n",
    "        self.final = -1\n",
    "        self.max_size = max_size\n",
    "\n",
    "    def inserta_cola(self, dato):\n",
    "        if self.final == self.max_size - 1:\n",
    "            print(\"Desbordamiento - Cola llena\")\n",
    "        else:\n",
    "            self.final += 1\n",
    "            self.cola.append(dato)\n",
    "            if self.frente == 0:\n",
    "                self.frente = 1\n",
    "\n",
    "# Ejemplo de uso\n",
    "c = Cola(3)\n",
    "c.inserta_cola(10)\n",
    "c.inserta_cola(20)\n",
    "c.inserta_cola(30)\n",
    "c.inserta_cola(40)  # Cola llena\n",
    "print(c.cola)\n"
   ]
  },
  {
   "cell_type": "markdown",
   "metadata": {},
   "source": [
    "Algoritmo 11: Elimina_cola (Dequeue)"
   ]
  },
  {
   "cell_type": "code",
   "execution_count": null,
   "metadata": {},
   "outputs": [],
   "source": [
    "class Cola:\n",
    "    def __init__(self, max_size):\n",
    "        self.cola = []\n",
    "        self.frente = 0\n",
    "        self.final = -1\n",
    "        self.max_size = max_size\n",
    "\n",
    "    def elimina_cola(self):\n",
    "        if self.frente == 0 and self.final == -1:\n",
    "            print(\"Subdesbordamiento - Cola vacía\")\n",
    "        else:\n",
    "            dato = self.cola[self.frente - 1]\n",
    "            self.frente += 1\n",
    "            if self.frente > self.final:\n",
    "                self.frente = 0\n",
    "                self.final = -1\n",
    "            return dato\n",
    "\n",
    "# Ejemplo de uso\n",
    "c = Cola(3)\n",
    "c.inserta_cola(10)\n",
    "c.inserta_cola(20)\n",
    "c.inserta_cola(30)\n",
    "print(c.elimina_cola())  # 10\n",
    "print(c.elimina_cola())  # 20\n",
    "print(c.elimina_cola())  # 30\n",
    "print(c.elimina_cola())  # Cola vacía\n"
   ]
  },
  {
   "cell_type": "markdown",
   "metadata": {},
   "source": [
    "Algoritmo 12: Cola_circular"
   ]
  },
  {
   "cell_type": "code",
   "execution_count": null,
   "metadata": {},
   "outputs": [],
   "source": [
    "class ColaCircular:\n",
    "    def __init__(self, max_size):\n",
    "        self.cola = [None] * max_size\n",
    "        self.frente = -1\n",
    "        self.final = -1\n",
    "        self.max_size = max_size\n",
    "\n",
    "    def inserta_cola(self, dato):\n",
    "        if (self.final + 1) % self.max_size == self.frente:\n",
    "            print(\"Desbordamiento - Cola llena\")\n",
    "        elif self.frente == -1:\n",
    "            self.frente = 0\n",
    "            self.final = 0\n",
    "            self.cola[self.final] = dato\n",
    "        else:\n",
    "            self.final = (self.final + 1) % self.max_size\n",
    "            self.cola[self.final] = dato\n",
    "\n",
    "    def elimina_cola(self):\n",
    "        if self.frente == -1:\n",
    "            print(\"Subdesbordamiento - Cola vacía\")\n",
    "        elif self.frente == self.final:\n",
    "            dato = self.cola[self.frente]\n",
    "            self.frente = -1\n",
    "            self.final = -1\n",
    "            return dato\n",
    "        else:\n",
    "            dato = self.cola[self.frente]\n",
    "            self.frente = (self.frente + 1) % self.max_size\n",
    "            return dato\n",
    "\n",
    "# Ejemplo de uso\n",
    "c = ColaCircular(3)\n",
    "c.inserta_cola(10)\n",
    "c.inserta_cola(20)\n",
    "c.inserta_cola(30)\n",
    "print(c.elimina_cola())  # 10\n",
    "c.inserta_cola(40)  # La cola sigue siendo circular\n",
    "print(c.cola)\n"
   ]
  }
 ],
 "metadata": {
  "language_info": {
   "name": "python"
  }
 },
 "nbformat": 4,
 "nbformat_minor": 2
}
