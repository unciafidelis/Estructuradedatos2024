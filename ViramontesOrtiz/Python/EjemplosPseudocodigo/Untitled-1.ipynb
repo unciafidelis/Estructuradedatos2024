{
 "cells": [
  {
   "cell_type": "code",
   "execution_count": 5,
   "metadata": {},
   "outputs": [
    {
     "name": "stdout",
     "output_type": "stream",
     "text": [
      "El promedio es, 52.8\n",
      "76\n",
      "99\n",
      "86\n",
      "84\n",
      "76\n",
      "57\n",
      "79\n",
      "65\n",
      "62\n",
      "97\n",
      "81\n",
      "59\n",
      "62\n",
      "61\n",
      "62\n",
      "95\n",
      "59\n",
      "57\n",
      "92\n",
      "66\n",
      "98\n",
      "61\n",
      "82\n",
      "73\n",
      "74\n",
      "75\n",
      "84\n"
     ]
    }
   ],
   "source": [
    "import random\n",
    "\n",
    "calificaciones = []\n",
    "for x in range(1, 51):  \n",
    "    cal = random.randint(1, 100)\n",
    "    calificaciones.append(cal)\n",
    "\n",
    "prom = sum(calificaciones) / len(calificaciones)\n",
    "print(f\"El promedio es, {prom}\")\n",
    "\n",
    "for cal in calificaciones:\n",
    "    if cal > prom:\n",
    "        print(cal)"
   ]
  }
 ],
 "metadata": {
  "kernelspec": {
   "display_name": "Python 3",
   "language": "python",
   "name": "python3"
  },
  "language_info": {
   "codemirror_mode": {
    "name": "ipython",
    "version": 3
   },
   "file_extension": ".py",
   "mimetype": "text/x-python",
   "name": "python",
   "nbconvert_exporter": "python",
   "pygments_lexer": "ipython3",
   "version": "3.12.5"
  }
 },
 "nbformat": 4,
 "nbformat_minor": 2
}
